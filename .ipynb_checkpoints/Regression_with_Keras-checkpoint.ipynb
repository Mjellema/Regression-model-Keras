{
 "cells": [
  {
   "cell_type": "markdown",
   "metadata": {},
   "source": [
    "![alt text](https://static.wixstatic.com/media/f11c7c_69283cb47c30496d953e1d8d4c6b5b18~mv2.png/v1/fill/w_75,h_75,al_c,usm_0.66_1.00_0.01/Logo%20new.png)\n",
    "\n",
    "\n",
    "# Regression model with Keras\n",
    "\n",
    "This notebook holds my assignment for the Introduction to Deep Learning & Neural Networks with Keras.\n",
    "\n",
    "---"
   ]
  },
  {
   "cell_type": "code",
   "execution_count": 5,
   "metadata": {},
   "outputs": [],
   "source": [
    "#setup the environment\n",
    "import pandas as pd\n",
    "import numpy as np\n",
    "import sklearnas sk\n",
    "from sklearn.model_selection import train_test_split\n",
    "from sklearn.metrics import mean_squared_error\n",
    "import sys"
   ]
  },
  {
   "cell_type": "code",
   "execution_count": 6,
   "metadata": {},
   "outputs": [],
   "source": [
    "#add the tensorflow and keras environment if necessary\n",
    "#remove the comment marks on next two lines respectively\n",
    "#!pip install tensorflow\n",
    "#!pip install keras"
   ]
  },
  {
   "cell_type": "code",
   "execution_count": 7,
   "metadata": {},
   "outputs": [],
   "source": [
    "#import the packages from the Keras library we need\n",
    "import keras\n",
    "from keras.models import Sequential\n",
    "from keras.layers import Dense"
   ]
  },
  {
   "cell_type": "code",
   "execution_count": 10,
   "metadata": {},
   "outputs": [
    {
     "name": "stdout",
     "output_type": "stream",
     "text": [
      "(1030, 9)\n"
     ]
    },
    {
     "data": {
      "text/html": [
       "<div>\n",
       "<style scoped>\n",
       "    .dataframe tbody tr th:only-of-type {\n",
       "        vertical-align: middle;\n",
       "    }\n",
       "\n",
       "    .dataframe tbody tr th {\n",
       "        vertical-align: top;\n",
       "    }\n",
       "\n",
       "    .dataframe thead th {\n",
       "        text-align: right;\n",
       "    }\n",
       "</style>\n",
       "<table border=\"1\" class=\"dataframe\">\n",
       "  <thead>\n",
       "    <tr style=\"text-align: right;\">\n",
       "      <th></th>\n",
       "      <th>Cement</th>\n",
       "      <th>Blast Furnace Slag</th>\n",
       "      <th>Fly Ash</th>\n",
       "      <th>Water</th>\n",
       "      <th>Superplasticizer</th>\n",
       "      <th>Coarse Aggregate</th>\n",
       "      <th>Fine Aggregate</th>\n",
       "      <th>Age</th>\n",
       "      <th>Strength</th>\n",
       "    </tr>\n",
       "  </thead>\n",
       "  <tbody>\n",
       "    <tr>\n",
       "      <th>0</th>\n",
       "      <td>540.0</td>\n",
       "      <td>0.0</td>\n",
       "      <td>0.0</td>\n",
       "      <td>162.0</td>\n",
       "      <td>2.5</td>\n",
       "      <td>1040.0</td>\n",
       "      <td>676.0</td>\n",
       "      <td>28</td>\n",
       "      <td>79.99</td>\n",
       "    </tr>\n",
       "    <tr>\n",
       "      <th>1</th>\n",
       "      <td>540.0</td>\n",
       "      <td>0.0</td>\n",
       "      <td>0.0</td>\n",
       "      <td>162.0</td>\n",
       "      <td>2.5</td>\n",
       "      <td>1055.0</td>\n",
       "      <td>676.0</td>\n",
       "      <td>28</td>\n",
       "      <td>61.89</td>\n",
       "    </tr>\n",
       "    <tr>\n",
       "      <th>2</th>\n",
       "      <td>332.5</td>\n",
       "      <td>142.5</td>\n",
       "      <td>0.0</td>\n",
       "      <td>228.0</td>\n",
       "      <td>0.0</td>\n",
       "      <td>932.0</td>\n",
       "      <td>594.0</td>\n",
       "      <td>270</td>\n",
       "      <td>40.27</td>\n",
       "    </tr>\n",
       "    <tr>\n",
       "      <th>3</th>\n",
       "      <td>332.5</td>\n",
       "      <td>142.5</td>\n",
       "      <td>0.0</td>\n",
       "      <td>228.0</td>\n",
       "      <td>0.0</td>\n",
       "      <td>932.0</td>\n",
       "      <td>594.0</td>\n",
       "      <td>365</td>\n",
       "      <td>41.05</td>\n",
       "    </tr>\n",
       "    <tr>\n",
       "      <th>4</th>\n",
       "      <td>198.6</td>\n",
       "      <td>132.4</td>\n",
       "      <td>0.0</td>\n",
       "      <td>192.0</td>\n",
       "      <td>0.0</td>\n",
       "      <td>978.4</td>\n",
       "      <td>825.5</td>\n",
       "      <td>360</td>\n",
       "      <td>44.30</td>\n",
       "    </tr>\n",
       "  </tbody>\n",
       "</table>\n",
       "</div>"
      ],
      "text/plain": [
       "   Cement  Blast Furnace Slag  Fly Ash  Water  Superplasticizer  \\\n",
       "0   540.0                 0.0      0.0  162.0               2.5   \n",
       "1   540.0                 0.0      0.0  162.0               2.5   \n",
       "2   332.5               142.5      0.0  228.0               0.0   \n",
       "3   332.5               142.5      0.0  228.0               0.0   \n",
       "4   198.6               132.4      0.0  192.0               0.0   \n",
       "\n",
       "   Coarse Aggregate  Fine Aggregate  Age  Strength  \n",
       "0            1040.0           676.0   28     79.99  \n",
       "1            1055.0           676.0   28     61.89  \n",
       "2             932.0           594.0  270     40.27  \n",
       "3             932.0           594.0  365     41.05  \n",
       "4             978.4           825.5  360     44.30  "
      ]
     },
     "execution_count": 10,
     "metadata": {},
     "output_type": "execute_result"
    }
   ],
   "source": [
    "#get the data and have a first glance at it\n",
    "concrete_data = pd.read_csv('https://cocl.us/concrete_data')\n",
    "print(concrete_data.shape)\n",
    "concrete_data.head()"
   ]
  },
  {
   "cell_type": "code",
   "execution_count": 15,
   "metadata": {},
   "outputs": [
    {
     "name": "stdout",
     "output_type": "stream",
     "text": [
      "Cement                0\n",
      "Blast Furnace Slag    0\n",
      "Fly Ash               0\n",
      "Water                 0\n",
      "Superplasticizer      0\n",
      "Coarse Aggregate      0\n",
      "Fine Aggregate        0\n",
      "Age                   0\n",
      "Strength              0\n",
      "dtype: int64\n",
      "The data has no missing values\n"
     ]
    },
    {
     "data": {
      "text/html": [
       "<div>\n",
       "<style scoped>\n",
       "    .dataframe tbody tr th:only-of-type {\n",
       "        vertical-align: middle;\n",
       "    }\n",
       "\n",
       "    .dataframe tbody tr th {\n",
       "        vertical-align: top;\n",
       "    }\n",
       "\n",
       "    .dataframe thead th {\n",
       "        text-align: right;\n",
       "    }\n",
       "</style>\n",
       "<table border=\"1\" class=\"dataframe\">\n",
       "  <thead>\n",
       "    <tr style=\"text-align: right;\">\n",
       "      <th></th>\n",
       "      <th>Cement</th>\n",
       "      <th>Blast Furnace Slag</th>\n",
       "      <th>Fly Ash</th>\n",
       "      <th>Water</th>\n",
       "      <th>Superplasticizer</th>\n",
       "      <th>Coarse Aggregate</th>\n",
       "      <th>Fine Aggregate</th>\n",
       "      <th>Age</th>\n",
       "      <th>Strength</th>\n",
       "    </tr>\n",
       "  </thead>\n",
       "  <tbody>\n",
       "    <tr>\n",
       "      <th>count</th>\n",
       "      <td>1030.000000</td>\n",
       "      <td>1030.000000</td>\n",
       "      <td>1030.000000</td>\n",
       "      <td>1030.000000</td>\n",
       "      <td>1030.000000</td>\n",
       "      <td>1030.000000</td>\n",
       "      <td>1030.000000</td>\n",
       "      <td>1030.000000</td>\n",
       "      <td>1030.000000</td>\n",
       "    </tr>\n",
       "    <tr>\n",
       "      <th>mean</th>\n",
       "      <td>281.167864</td>\n",
       "      <td>73.895825</td>\n",
       "      <td>54.188350</td>\n",
       "      <td>181.567282</td>\n",
       "      <td>6.204660</td>\n",
       "      <td>972.918932</td>\n",
       "      <td>773.580485</td>\n",
       "      <td>45.662136</td>\n",
       "      <td>35.817961</td>\n",
       "    </tr>\n",
       "    <tr>\n",
       "      <th>std</th>\n",
       "      <td>104.506364</td>\n",
       "      <td>86.279342</td>\n",
       "      <td>63.997004</td>\n",
       "      <td>21.354219</td>\n",
       "      <td>5.973841</td>\n",
       "      <td>77.753954</td>\n",
       "      <td>80.175980</td>\n",
       "      <td>63.169912</td>\n",
       "      <td>16.705742</td>\n",
       "    </tr>\n",
       "    <tr>\n",
       "      <th>min</th>\n",
       "      <td>102.000000</td>\n",
       "      <td>0.000000</td>\n",
       "      <td>0.000000</td>\n",
       "      <td>121.800000</td>\n",
       "      <td>0.000000</td>\n",
       "      <td>801.000000</td>\n",
       "      <td>594.000000</td>\n",
       "      <td>1.000000</td>\n",
       "      <td>2.330000</td>\n",
       "    </tr>\n",
       "    <tr>\n",
       "      <th>25%</th>\n",
       "      <td>192.375000</td>\n",
       "      <td>0.000000</td>\n",
       "      <td>0.000000</td>\n",
       "      <td>164.900000</td>\n",
       "      <td>0.000000</td>\n",
       "      <td>932.000000</td>\n",
       "      <td>730.950000</td>\n",
       "      <td>7.000000</td>\n",
       "      <td>23.710000</td>\n",
       "    </tr>\n",
       "    <tr>\n",
       "      <th>50%</th>\n",
       "      <td>272.900000</td>\n",
       "      <td>22.000000</td>\n",
       "      <td>0.000000</td>\n",
       "      <td>185.000000</td>\n",
       "      <td>6.400000</td>\n",
       "      <td>968.000000</td>\n",
       "      <td>779.500000</td>\n",
       "      <td>28.000000</td>\n",
       "      <td>34.445000</td>\n",
       "    </tr>\n",
       "    <tr>\n",
       "      <th>75%</th>\n",
       "      <td>350.000000</td>\n",
       "      <td>142.950000</td>\n",
       "      <td>118.300000</td>\n",
       "      <td>192.000000</td>\n",
       "      <td>10.200000</td>\n",
       "      <td>1029.400000</td>\n",
       "      <td>824.000000</td>\n",
       "      <td>56.000000</td>\n",
       "      <td>46.135000</td>\n",
       "    </tr>\n",
       "    <tr>\n",
       "      <th>max</th>\n",
       "      <td>540.000000</td>\n",
       "      <td>359.400000</td>\n",
       "      <td>200.100000</td>\n",
       "      <td>247.000000</td>\n",
       "      <td>32.200000</td>\n",
       "      <td>1145.000000</td>\n",
       "      <td>992.600000</td>\n",
       "      <td>365.000000</td>\n",
       "      <td>82.600000</td>\n",
       "    </tr>\n",
       "  </tbody>\n",
       "</table>\n",
       "</div>"
      ],
      "text/plain": [
       "            Cement  Blast Furnace Slag      Fly Ash        Water  \\\n",
       "count  1030.000000         1030.000000  1030.000000  1030.000000   \n",
       "mean    281.167864           73.895825    54.188350   181.567282   \n",
       "std     104.506364           86.279342    63.997004    21.354219   \n",
       "min     102.000000            0.000000     0.000000   121.800000   \n",
       "25%     192.375000            0.000000     0.000000   164.900000   \n",
       "50%     272.900000           22.000000     0.000000   185.000000   \n",
       "75%     350.000000          142.950000   118.300000   192.000000   \n",
       "max     540.000000          359.400000   200.100000   247.000000   \n",
       "\n",
       "       Superplasticizer  Coarse Aggregate  Fine Aggregate          Age  \\\n",
       "count       1030.000000       1030.000000     1030.000000  1030.000000   \n",
       "mean           6.204660        972.918932      773.580485    45.662136   \n",
       "std            5.973841         77.753954       80.175980    63.169912   \n",
       "min            0.000000        801.000000      594.000000     1.000000   \n",
       "25%            0.000000        932.000000      730.950000     7.000000   \n",
       "50%            6.400000        968.000000      779.500000    28.000000   \n",
       "75%           10.200000       1029.400000      824.000000    56.000000   \n",
       "max           32.200000       1145.000000      992.600000   365.000000   \n",
       "\n",
       "          Strength  \n",
       "count  1030.000000  \n",
       "mean     35.817961  \n",
       "std      16.705742  \n",
       "min       2.330000  \n",
       "25%      23.710000  \n",
       "50%      34.445000  \n",
       "75%      46.135000  \n",
       "max      82.600000  "
      ]
     },
     "execution_count": 15,
     "metadata": {},
     "output_type": "execute_result"
    }
   ],
   "source": [
    "#borrowed from the lab notebook: the function to define the lineair regression\n",
    "#check the data to see if we can work with it right out of the box\n",
    "#remove missing values if any\n",
    "if max(concrete_data.isnull().sum()) > 0:\n",
    "    concrete_data.dropna(inplace=True)\n",
    "print(concrete_data.isnull().sum())\n",
    "print(\"The data has no missing values\")    \n",
    "concrete_data.describe()"
   ]
  },
  {
   "cell_type": "code",
   "execution_count": 16,
   "metadata": {},
   "outputs": [],
   "source": [
    "#borrowed from the lab notebook: the function to define the lineair regression\n",
    "#split data into predictors and target\n",
    "concrete_data_columns = concrete_data.columns\n",
    "\n",
    "predictors = concrete_data[concrete_data_columns[concrete_data_columns != 'Strength']] # all columns except Strength\n",
    "target = concrete_data['Strength'] # Strength column"
   ]
  },
  {
   "cell_type": "code",
   "execution_count": 17,
   "metadata": {},
   "outputs": [
    {
     "data": {
      "text/html": [
       "<div>\n",
       "<style scoped>\n",
       "    .dataframe tbody tr th:only-of-type {\n",
       "        vertical-align: middle;\n",
       "    }\n",
       "\n",
       "    .dataframe tbody tr th {\n",
       "        vertical-align: top;\n",
       "    }\n",
       "\n",
       "    .dataframe thead th {\n",
       "        text-align: right;\n",
       "    }\n",
       "</style>\n",
       "<table border=\"1\" class=\"dataframe\">\n",
       "  <thead>\n",
       "    <tr style=\"text-align: right;\">\n",
       "      <th></th>\n",
       "      <th>Cement</th>\n",
       "      <th>Blast Furnace Slag</th>\n",
       "      <th>Fly Ash</th>\n",
       "      <th>Water</th>\n",
       "      <th>Superplasticizer</th>\n",
       "      <th>Coarse Aggregate</th>\n",
       "      <th>Fine Aggregate</th>\n",
       "      <th>Age</th>\n",
       "    </tr>\n",
       "  </thead>\n",
       "  <tbody>\n",
       "    <tr>\n",
       "      <th>0</th>\n",
       "      <td>2.476712</td>\n",
       "      <td>-0.856472</td>\n",
       "      <td>-0.846733</td>\n",
       "      <td>-0.916319</td>\n",
       "      <td>-0.620147</td>\n",
       "      <td>0.862735</td>\n",
       "      <td>-1.217079</td>\n",
       "      <td>-0.279597</td>\n",
       "    </tr>\n",
       "    <tr>\n",
       "      <th>1</th>\n",
       "      <td>2.476712</td>\n",
       "      <td>-0.856472</td>\n",
       "      <td>-0.846733</td>\n",
       "      <td>-0.916319</td>\n",
       "      <td>-0.620147</td>\n",
       "      <td>1.055651</td>\n",
       "      <td>-1.217079</td>\n",
       "      <td>-0.279597</td>\n",
       "    </tr>\n",
       "    <tr>\n",
       "      <th>2</th>\n",
       "      <td>0.491187</td>\n",
       "      <td>0.795140</td>\n",
       "      <td>-0.846733</td>\n",
       "      <td>2.174405</td>\n",
       "      <td>-1.038638</td>\n",
       "      <td>-0.526262</td>\n",
       "      <td>-2.239829</td>\n",
       "      <td>3.551340</td>\n",
       "    </tr>\n",
       "    <tr>\n",
       "      <th>3</th>\n",
       "      <td>0.491187</td>\n",
       "      <td>0.795140</td>\n",
       "      <td>-0.846733</td>\n",
       "      <td>2.174405</td>\n",
       "      <td>-1.038638</td>\n",
       "      <td>-0.526262</td>\n",
       "      <td>-2.239829</td>\n",
       "      <td>5.055221</td>\n",
       "    </tr>\n",
       "    <tr>\n",
       "      <th>4</th>\n",
       "      <td>-0.790075</td>\n",
       "      <td>0.678079</td>\n",
       "      <td>-0.846733</td>\n",
       "      <td>0.488555</td>\n",
       "      <td>-1.038638</td>\n",
       "      <td>0.070492</td>\n",
       "      <td>0.647569</td>\n",
       "      <td>4.976069</td>\n",
       "    </tr>\n",
       "  </tbody>\n",
       "</table>\n",
       "</div>"
      ],
      "text/plain": [
       "     Cement  Blast Furnace Slag   Fly Ash     Water  Superplasticizer  \\\n",
       "0  2.476712           -0.856472 -0.846733 -0.916319         -0.620147   \n",
       "1  2.476712           -0.856472 -0.846733 -0.916319         -0.620147   \n",
       "2  0.491187            0.795140 -0.846733  2.174405         -1.038638   \n",
       "3  0.491187            0.795140 -0.846733  2.174405         -1.038638   \n",
       "4 -0.790075            0.678079 -0.846733  0.488555         -1.038638   \n",
       "\n",
       "   Coarse Aggregate  Fine Aggregate       Age  \n",
       "0          0.862735       -1.217079 -0.279597  \n",
       "1          1.055651       -1.217079 -0.279597  \n",
       "2         -0.526262       -2.239829  3.551340  \n",
       "3         -0.526262       -2.239829  5.055221  \n",
       "4          0.070492        0.647569  4.976069  "
      ]
     },
     "execution_count": 17,
     "metadata": {},
     "output_type": "execute_result"
    }
   ],
   "source": [
    "#borrowed from the lab notebook: the function to define the lineair regression\n",
    "#normalize the predictors\n",
    "predictors_norm = (predictors - predictors.mean()) / predictors.std()\n",
    "predictors_norm.head()"
   ]
  },
  {
   "cell_type": "code",
   "execution_count": 18,
   "metadata": {},
   "outputs": [],
   "source": [
    "#borrowed from the lab notebook: the function to define the lineair regression\n",
    "#Let's save the number of predictors to _n_cols_ since we will need this number when building our network\n",
    "n_cols = predictors_norm.shape[1] # number of predictors"
   ]
  },
  {
   "cell_type": "code",
   "execution_count": 32,
   "metadata": {},
   "outputs": [],
   "source": [
    "#borrowed from the lab notebook: the function to define the lineair regression\n",
    "def regression_model(nodes = 10):\n",
    "    # create model\n",
    "    model = Sequential()\n",
    "    model.add(Dense(nodes, activation='relu', input_shape=(n_cols,))) # 1 hidden layer, 10 nodes and ReLU as activation\n",
    "    model.add(Dense(1))\n",
    "    \n",
    "    # compile model\n",
    "    model.compile(optimizer='adam', loss='mean_squared_error') # \n",
    "    return model"
   ]
  },
  {
   "cell_type": "markdown",
   "metadata": {},
   "source": [
    "Let's do a single run to check if everything is working. If so, we'll then perform the 50 times loop"
   ]
  },
  {
   "cell_type": "code",
   "execution_count": 53,
   "metadata": {},
   "outputs": [],
   "source": [
    "#split the set into train and test using sklearn\n",
    "#one split for the non normalized predictors (step A)\n",
    "predictors_reg_train, predictors_reg_test, target_reg_train, \\\n",
    "    target_reg_test = train_test_split(predictors, target, test_size=0.3)\n",
    "\n",
    "#one split for the normalized predictors (step B)\n",
    "predictors_norm_train, predictors_norm_test, target_norm_train, \\\n",
    "    target_norm_test = train_test_split(predictors_norm, target, test_size=0.3)"
   ]
  },
  {
   "cell_type": "code",
   "execution_count": 54,
   "metadata": {},
   "outputs": [
    {
     "name": "stdout",
     "output_type": "stream",
     "text": [
      "Regular sets\n",
      "Predictors training dataframe shape: (824, 8)\n",
      "Predictors test dataframe shape: (206, 8)\n",
      "Normalized sets\n",
      "Predictors training dataframe shape: (824, 8)\n",
      "Predictors test dataframe shape: (206, 8)\n"
     ]
    }
   ],
   "source": [
    "#do some sanity checks on the different dataframes we'll use\n",
    "print(\"Regular sets\")\n",
    "print(\"Predictors training dataframe shape: {}\".format(predictors_reg_train.shape))\n",
    "print(\"Predictors test dataframe shape: {}\".format(predictors_reg_test.shape))\n",
    "\n",
    "print(\"Normalized sets\")\n",
    "print(\"Predictors training dataframe shape: {}\".format(predictors_norm_train.shape))\n",
    "print(\"Predictors test dataframe shape: {}\".format(predictors_norm_test.shape))"
   ]
  },
  {
   "cell_type": "code",
   "execution_count": 55,
   "metadata": {},
   "outputs": [],
   "source": [
    "# build the model\n",
    "model = regression_model(10)"
   ]
  },
  {
   "cell_type": "code",
   "execution_count": 56,
   "metadata": {},
   "outputs": [
    {
     "data": {
      "text/plain": [
       "<tensorflow.python.keras.callbacks.History at 0x7f9636b468e0>"
      ]
     },
     "execution_count": 56,
     "metadata": {},
     "output_type": "execute_result"
    }
   ],
   "source": [
    "# fit / train the model\n",
    "model.fit(predictors_reg_train, target_reg_train, \\\n",
    "          validation_data=(predictors_reg_test, target_reg_test), epochs=50, verbose=0)"
   ]
  },
  {
   "cell_type": "code",
   "execution_count": 57,
   "metadata": {},
   "outputs": [
    {
     "data": {
      "text/plain": [
       "206.1276574647648"
      ]
     },
     "execution_count": 57,
     "metadata": {},
     "output_type": "execute_result"
    }
   ],
   "source": [
    "predicted_strengths = model.predict(predictors_reg_test)\n",
    "mean_squared_error(target_reg_test, predicted_strengths)"
   ]
  },
  {
   "cell_type": "markdown",
   "metadata": {},
   "source": [
    "Looks good to go, now let's program the loop doing step 1 to 3 50 times, store the MSE values in a list and\n",
    "calc the mean and the standard deviation of the mean squared errors."
   ]
  },
  {
   "cell_type": "markdown",
   "metadata": {},
   "source": [
    "## A. Build a baseline model"
   ]
  },
  {
   "cell_type": "code",
   "execution_count": 71,
   "metadata": {},
   "outputs": [
    {
     "name": "stdout",
     "output_type": "stream",
     "text": [
      "Iteration: 50 of 50\n",
      "Iterations done.\n",
      "The Mean Squared Errors have a mean of 110.34882283698649 \n",
      "and a standard deviation of 14.331467864717725\n"
     ]
    }
   ],
   "source": [
    "# build the model with a hidden layer of 10 nodes\n",
    "model = regression_model(10)\n",
    "\n",
    "#init the list with results\n",
    "mse_results = []\n",
    "\n",
    "#loop 50 times and store the results\n",
    "for i in range(50):\n",
    "    sys.stdout.write('\\rIteration: ' + str(i+1) + ' of ' + str(50))\n",
    "    sys.stdout.flush()\n",
    "    #print(\"Iteration: {}\".format(i))\n",
    "    #step 1: Randomly split the data into a training and test sets by holding 30% of the data for testing.\n",
    "    predictors_reg_train, predictors_reg_test, target_reg_train, \\\n",
    "        target_reg_test = train_test_split(predictors, target, test_size=0.3)\n",
    "    \n",
    "    #step 2: Train the model on the training data using 50 epochs\n",
    "    #remember: we don't have to build the model 50 times, we just need to feed a different train set\n",
    "    model.fit(predictors_reg_train, target_reg_train, \\\n",
    "          validation_data=(predictors_reg_test, target_reg_test), epochs=50, verbose=0)\n",
    "    \n",
    "    #step 3: Evaluate the model on the test data and compute the mean squared error between the \n",
    "    #predicted concrete strength and the actual concrete strength.\n",
    "    predicted_strengths = model.predict(predictors_reg_test)\n",
    "    \n",
    "    #step 4: add the result to the list\n",
    "    mse_results.append(mean_squared_error(target_reg_test, predicted_strengths))\n",
    "\n",
    "print(\"\")\n",
    "print(\"Iterations done.\")\n",
    "#step 5: report the mean and standard deviation of the mean squared errors\n",
    "print(\"The Mean Squared Errors \"\\\n",
    "      \"\\nhave a mean of {} \\nand a standard deviation of {}\".format(np.mean(mse_results), \\\n",
    "                                                                    np.std(mse_results)))"
   ]
  },
  {
   "cell_type": "markdown",
   "metadata": {},
   "source": [
    "## B. Normalize the data"
   ]
  },
  {
   "cell_type": "code",
   "execution_count": 74,
   "metadata": {},
   "outputs": [
    {
     "name": "stdout",
     "output_type": "stream",
     "text": [
      "Iteration: 50 of 50\n",
      "Iterations done.\n",
      "The Mean Squared Errors with the normalized data \n",
      "have a mean of 14.204298771816202 \n",
      "and a standard deviation of 1.4875688711290145\n"
     ]
    }
   ],
   "source": [
    "#we use the model generated in step A so no need to call the constructor of the model again.\n",
    "\n",
    "#normalize the data\n",
    "predictors_norm = (predictors - predictors.mean()) / predictors.std()\n",
    "\n",
    "#init the list with results\n",
    "mse_norm_results = []\n",
    "\n",
    "#loop 50 times and store the results\n",
    "for i in range(50):\n",
    "    sys.stdout.write('\\rIteration: ' + str(i+1) + ' of ' + str(50))\n",
    "    sys.stdout.flush()\n",
    "    #print(\"Iteration: {}\".format(i))\n",
    "    #step 1: Randomly split the data into a training and test sets by holding 30% of the data for testing.\n",
    "    #IMPORTANT: we have to take the normalized set here\n",
    "    predictors_norm_train, predictors_norm_test, target_norm_train, \\\n",
    "        target_norm_test = train_test_split(predictors_norm, target, test_size=0.3)\n",
    "    \n",
    "    #step 2: Train the model on the training data using 50 epochs\n",
    "    #remember: we don't have to build the model 50 times, we just need to feed a different train set\n",
    "    #IMPORTANT: we have to take the normalized set here\n",
    "    model.fit(predictors_norm_train, target_norm_train, \\\n",
    "          validation_data=(predictors_norm_test, target_norm_test), epochs=50, verbose=0)\n",
    "    \n",
    "    #step 3: Evaluate the model on the test data and compute the mean squared error between the \n",
    "    #predicted concrete strength and the actual concrete strength.\n",
    "    #IMPORTANT: we have to take the normalized set here\n",
    "    predicted_norm_strengths = model.predict(predictors_norm_test)\n",
    "    \n",
    "    #step 4: add the result to the list\n",
    "    #IMPORTANT: we have to take the normalized set here\n",
    "    mse_norm_results.append(mean_squared_error(target_norm_test, predicted_norm_strengths))\n",
    "\n",
    "print(\"\")\n",
    "print(\"Iterations done.\")\n",
    "#step 5: report the mean and standard deviation of the mean squared errors\n",
    "print(\"The Mean Squared Errors with the normalized data \"\\\n",
    "      \"\\nhave a mean of {} \\nand a standard deviation of {}\".format(np.mean(mse_norm_results), \\\n",
    "                                                           np.std(mse_norm_results)))"
   ]
  },
  {
   "cell_type": "markdown",
   "metadata": {},
   "source": [
    "## C. Increate the number of epochs"
   ]
  },
  {
   "cell_type": "code",
   "execution_count": 75,
   "metadata": {},
   "outputs": [
    {
     "name": "stdout",
     "output_type": "stream",
     "text": [
      "Iteration: 50 of 50\n",
      "Iterations done.\n",
      "The Mean Squared Errors with normalized data and 100 epochs \n",
      "have a mean of 13.958282286624854 \n",
      "and a standard deviation of 1.461215383484202\n"
     ]
    }
   ],
   "source": [
    "#we use the model generated in step A so no need to call the constructor of the model again.\n",
    "#we use the normalized data generated in step B\n",
    "\n",
    "#init the list with results\n",
    "mse_norm_results2 = []\n",
    "\n",
    "#loop 50 times and store the results\n",
    "for i in range(50):\n",
    "    sys.stdout.write('\\rIteration: ' + str(i+1) + ' of ' + str(50))\n",
    "    sys.stdout.flush()\n",
    "    #print(\"Iteration: {}\".format(i))\n",
    "    #step 1: Randomly split the data into a training and test sets by holding 30% of the data for testing.\n",
    "    #IMPORTANT: we have to take the normalized set here\n",
    "    predictors_norm_train, predictors_norm_test, target_norm_train, \\\n",
    "        target_norm_test = train_test_split(predictors_norm, target, test_size=0.3)\n",
    "    \n",
    "    #step 2: Train the model on the training data using 50 epochs\n",
    "    #remember: we don't have to build the model 50 times, we just need to feed a different train set\n",
    "    #IMPORTANT: we havbe to take the normalized set here\n",
    "    #IMPORTANT: we raised the number of epochs from 50 -> 100\n",
    "    model.fit(predictors_norm_train, target_norm_train, \\\n",
    "          validation_data=(predictors_norm_test, target_norm_test), epochs=100, verbose=0)\n",
    "    \n",
    "    #step 3: Evaluate the model on the test data and compute the mean squared error between the \n",
    "    #predicted concrete strength and the actual concrete strength.\n",
    "    #IMPORTANT: we have to take the normalized set here\n",
    "    predicted_norm_strengths = model.predict(predictors_norm_test)\n",
    "    \n",
    "    #step 4: add the result to the list\n",
    "    #IMPORTANT: we have to take the normalized set here\n",
    "    mse_norm_results2.append(mean_squared_error(target_norm_test, predicted_norm_strengths))\n",
    "\n",
    "print(\"\")\n",
    "print(\"Iterations done.\")\n",
    "#step 5: report the mean and standard deviation of the mean squared errors\n",
    "print(\"The Mean Squared Errors with normalized data and 100 epochs \"\\\n",
    "      \"\\nhave a mean of {} \\nand a standard deviation of {}\".format(np.mean(mse_norm_results2), \\\n",
    "                                                                np.std(mse_norm_results2)))"
   ]
  },
  {
   "cell_type": "markdown",
   "metadata": {},
   "source": [
    "## D. Increase the number of hidden layers"
   ]
  },
  {
   "cell_type": "code",
   "execution_count": 76,
   "metadata": {},
   "outputs": [],
   "source": [
    "#we have to define the new model, now with 3 hidden layers\n",
    "def regression_model2(nodes = 10):\n",
    "    # create model\n",
    "    model = Sequential()\n",
    "    model.add(Dense(nodes, activation='relu', input_shape=(n_cols,))) # 3 hidden layers, 10 nodes and ReLU as activation\n",
    "    model.add(Dense(nodes, activation='relu'))\n",
    "    model.add(Dense(nodes, activation='relu'))            \n",
    "    model.add(Dense(1))\n",
    "    \n",
    "    # compile model\n",
    "    model.compile(optimizer='adam', loss='mean_squared_error') # \n",
    "    return model"
   ]
  },
  {
   "cell_type": "code",
   "execution_count": 77,
   "metadata": {},
   "outputs": [
    {
     "name": "stdout",
     "output_type": "stream",
     "text": [
      "Iteration: 50 of 50\n",
      "Iterations done.\n",
      "The Mean Squared Errors with the normalized data and new model \n",
      "have a mean of 31.42006026453305 \n",
      "and a standard deviation of 20.165493781357558\n"
     ]
    }
   ],
   "source": [
    "# build the model with a hidden layer of 10 nodes\n",
    "model2 = regression_model2(10)\n",
    "\n",
    "#init the list with results\n",
    "mse_norm_results2 = []\n",
    "\n",
    "#loop 50 times and store the results\n",
    "for i in range(50):\n",
    "    sys.stdout.write('\\rIteration: ' + str(i+1) + ' of ' + str(50))\n",
    "    sys.stdout.flush()\n",
    "    #print(\"Iteration: {}\".format(i))\n",
    "    #step 1: Randomly split the data into a training and test sets by holding 30% of the data for testing.\n",
    "    #IMPORTANT: we have to take the normalized set here\n",
    "    predictors_norm_train, predictors_norm_test, target_norm_train, \\\n",
    "        target_norm_test = train_test_split(predictors_norm, target, test_size=0.3)\n",
    "    \n",
    "    #step 2: Train the model on the training data using 50 epochs\n",
    "    #remember: we don't have to build the model 50 times, we just need to feed a different train set\n",
    "    #IMPORTANT: we have to take the normalized set here\n",
    "    model2.fit(predictors_norm_train, target_norm_train, \\\n",
    "          validation_data=(predictors_norm_test, target_norm_test), epochs=50, verbose=0)\n",
    "    \n",
    "    #step 3: Evaluate the model on the test data and compute the mean squared error between the \n",
    "    #predicted concrete strength and the actual concrete strength.\n",
    "    #IMPORTANT: we have to take the normalized set here\n",
    "    predicted_norm_strengths2 = model2.predict(predictors_norm_test)\n",
    "    \n",
    "    #step 4: add the result to the list\n",
    "    #IMPORTANT: we have to take the normalized set here\n",
    "    mse_norm_results2.append(mean_squared_error(target_norm_test, predicted_norm_strengths2))\n",
    "\n",
    "print(\"\")\n",
    "print(\"Iterations done.\")\n",
    "#step 5: report the mean and standard deviation of the mean squared errors\n",
    "print(\"The Mean Squared Errors with the normalized data and new model \" \\\n",
    "      \"\\nhave a mean of {} \\nand a standard deviation of {}\".format(np.mean(mse_norm_results2), \\\n",
    "                                                                np.std(mse_norm_results2)))"
   ]
  }
 ],
 "metadata": {
  "kernelspec": {
   "display_name": "Anaconda (base)",
   "language": "python",
   "name": "anaconda-base"
  },
  "language_info": {
   "codemirror_mode": {
    "name": "ipython",
    "version": 3
   },
   "file_extension": ".py",
   "mimetype": "text/x-python",
   "name": "python",
   "nbconvert_exporter": "python",
   "pygments_lexer": "ipython3",
   "version": "3.8.3"
  },
  "toc": {
   "base_numbering": 1,
   "nav_menu": {},
   "number_sections": true,
   "sideBar": true,
   "skip_h1_title": false,
   "title_cell": "Table of Contents",
   "title_sidebar": "Contents",
   "toc_cell": false,
   "toc_position": {},
   "toc_section_display": true,
   "toc_window_display": false
  }
 },
 "nbformat": 4,
 "nbformat_minor": 4
}
